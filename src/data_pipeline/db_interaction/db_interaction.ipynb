{
 "cells": [
  {
   "cell_type": "markdown",
   "metadata": {},
   "source": [
    "# Modifiação do Dataset e envio para o RDS através do S3"
   ]
  },
  {
   "cell_type": "code",
   "execution_count": null,
   "metadata": {
    "vscode": {
     "languageId": "plaintext"
    }
   },
   "outputs": [],
   "source": [
    "# Importação das bibliotecas necessárias\n",
    "import boto3\n",
    "import pandas as pd\n",
    "from io import BytesIO\n",
    "from sqlalchemy import create_engine\n",
    "from botocore.exceptions import NoCredentialsError, PartialCredentialsError\n",
    "from io import BytesIO\n",
    "import os\n",
    "from dotenv import load_dotenv\n",
    "\n",
    "# Carrega variáveis de ambiente\n",
    "load_dotenv()"
   ]
  },
  {
   "cell_type": "code",
   "execution_count": null,
   "metadata": {
    "vscode": {
     "languageId": "plaintext"
    }
   },
   "outputs": [],
   "source": [
    "# Configuração da sessão e cliente S3 da AWS\n",
    "boto3_session = boto3.Session()\n",
    "s3_client = boto3_session.client('s3')\n",
    "\n",
    "# Variáveis de ambiente para conexão com o banco de dados\n",
    "database_name = os.getenv(\"DATABASE_NAME\")\n",
    "rds_host = os.getenv(\"RDS_HOST\")\n",
    "rds_port = os.getenv(\"RDS_PORT\")\n",
    "rds_user = os.getenv(\"RDS_USER\")\n",
    "rds_password = os.getenv(\"RDS_PASSWORD\")"
   ]
  },
  {
   "cell_type": "markdown",
   "metadata": {},
   "source": [
    "# Dowload do Dataset do S3"
   ]
  },
  {
   "cell_type": "code",
   "execution_count": null,
   "metadata": {
    "vscode": {
     "languageId": "plaintext"
    }
   },
   "outputs": [],
   "source": [
    "# Faz o download do arquivo do S3\n",
    "bucket_name = os.getenv(\"BUCKET_NAME\")\n",
    "file_name = 'dataset/Hotel Reservations.csv'\n",
    "response = s3_client.get_object(Bucket=bucket_name, Key=file_name)\n",
    "data = response['Body'].read()\n",
    "\n",
    "    # Carrega os dados do arquivo CSV\n",
    "hotel_reservations_modified = pd.read_csv(BytesIO(data))\n"
   ]
  },
  {
   "cell_type": "markdown",
   "metadata": {},
   "source": [
    "# Modificação do dataset"
   ]
  },
  {
   "cell_type": "code",
   "execution_count": null,
   "metadata": {
    "vscode": {
     "languageId": "plaintext"
    }
   },
   "outputs": [],
   "source": [
    "# Adiciona a coluna label_avg_price_per_room e remove a coluna avg_price_per_room do dataset\n",
    "def label_avg_price(price):\n",
    "    if price <= 85:\n",
    "        return 1\n",
    "    elif price < 115:\n",
    "        return 2\n",
    "    else:\n",
    "        return 3\n",
    "\n",
    "hotel_reservations_modified['label_avg_price_per_room'] = hotel_reservations_modified['avg_price_per_room'].apply(label_avg_price)\n",
    "hotel_reservations_modified = hotel_reservations_modified.drop('avg_price_per_room', axis=1)\n",
    "\n",
    "print(\"Coluna 'label_avg_price_per_room' adicionada e coluna 'avg_price_per_room'.\")"
   ]
  },
  {
   "cell_type": "markdown",
   "metadata": {},
   "source": [
    "# Envio do dataset modificado para o S3"
   ]
  },
  {
   "cell_type": "code",
   "execution_count": null,
   "metadata": {
    "vscode": {
     "languageId": "plaintext"
    }
   },
   "outputs": [],
   "source": [
    "# Transforma a variável hotel_reservatins_modified em um arquivo csv\n",
    "hotel_reservations_modified.to_csv(\"hotel Reservations Modified.csv\", index = False)\n",
    "print(\"Variável 'hotel_reservations_modified' transformada e salva como arquivo CSV\")"
   ]
  },
  {
   "cell_type": "code",
   "execution_count": null,
   "metadata": {
    "vscode": {
     "languageId": "plaintext"
    }
   },
   "outputs": [],
   "source": [
    "try:\n",
    "    # Salva no modificado no S3\n",
    "    s3_client.upload_file(\"Hotel Reservations Modified.csv\", bucket_name, \"dataset/Hotel Reservations Modified.csv\")\n",
    "    print(\"Arquivo enviado para o S3\")\n",
    "except Exception as e:\n",
    "     print(f\"Erro ao enviar arquivo para oS3: {e}\")\n"
   ]
  },
  {
   "cell_type": "markdown",
   "metadata": {},
   "source": [
    "# Envio dos datasets do S3 para o RDS"
   ]
  },
  {
   "cell_type": "code",
   "execution_count": null,
   "metadata": {
    "vscode": {
     "languageId": "plaintext"
    }
   },
   "outputs": [],
   "source": [
    "# Carrega arquivos CSV do S3 em um DataFrame do Pandas\n",
    "def load_csv_data(s3_bucket):\n",
    "    paginator = s3_client.get_paginator('list_objects_v2')\n",
    "    page_iterator = paginator.paginate(Bucket=s3_bucket)\n",
    "    \n",
    "    dfs = []\n",
    "    \n",
    "    for page in page_iterator:\n",
    "        if 'Contents' in page:\n",
    "            for file_object in page['Contents']:\n",
    "                file_key = file_object['Key']\n",
    "                \n",
    "                if file_key.endswith('.csv'):  # Verifica se o arquivo tem extensão .csv\n",
    "                    try:\n",
    "                        file_obj = s3_client.get_object(Bucket=s3_bucket, Key=file_key)\n",
    "                        df = pd.read_csv(BytesIO(file_obj['Body'].read()))\n",
    "                        dfs.append(df)\n",
    "                    except Exception as e:\n",
    "                        print(f\"Erro ao ler o arquivo {file_key}: {e}\")\n",
    "    \n",
    "    if dfs:\n",
    "        return dfs  # Retorna um único DataFrame combinando todos os CSVs\n",
    "    else:\n",
    "        return pd.DataFrame()  # Retorna um DataFrame vazio se nenhum CSV for encontrado\n"
   ]
  },
  {
   "cell_type": "code",
   "execution_count": null,
   "metadata": {
    "vscode": {
     "languageId": "plaintext"
    }
   },
   "outputs": [],
   "source": [
    "# Carregar dados CSV do S3 em um DataFrame do Pandas\n",
    "try:\n",
    "    df = load_csv_data(bucket_name)\n",
    "    print(\"Dados carregados\")\n",
    "except Exception as e:\n",
    "    print(f\"Erro ao carregar dados: {e}\")"
   ]
  },
  {
   "cell_type": "code",
   "execution_count": null,
   "metadata": {
    "vscode": {
     "languageId": "plaintext"
    }
   },
   "outputs": [],
   "source": [
    "try:\n",
    "    # Conecta ao RDS\n",
    "    conn_str = f'mysql+pymysql://{rds_user}:{rds_password}@{rds_host}:{rds_port}/{database_name}'\n",
    "    engine = create_engine(conn_str)\n",
    "\n",
    "    # Escreve o DataFram no RDS\n",
    "    df[0].to_sql(\"Hotel Reservation Modified\", con=engine, if_exists='replace', index=False)\n",
    "    df[1].to_sql(\"Hotel Reservation\", con=engine, if_exists='replace', index=False)\n",
    "    \n",
    "    engine.dispose()\n",
    "\n",
    "    print('Arquivos enviados para o Rds')\n",
    "    \n",
    "except Exception as e:\n",
    "    print(f\"Ocorreu um erro ao enviar arquivos para o RDS: {e}\")"
   ]
  }
 ],
 "metadata": {
  "language_info": {
   "name": "python"
  }
 },
 "nbformat": 4,
 "nbformat_minor": 2
}
